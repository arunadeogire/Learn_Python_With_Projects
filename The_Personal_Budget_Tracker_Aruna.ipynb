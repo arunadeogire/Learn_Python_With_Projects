{
 "cells": [
  {
   "cell_type": "markdown",
   "id": "46514000-1379-4f69-99f5-a83971c56738",
   "metadata": {
    "tags": []
   },
   "source": [
    "# Learn_Python_With_Projects"
   ]
  },
  {
   "cell_type": "markdown",
   "id": "66aedef5-813c-4526-93ac-dc9b3d545a21",
   "metadata": {},
   "source": [
    "---\n",
    "# <center> The Personal Budget Tracker <center/>    \n",
    "---"
   ]
  },
  {
   "cell_type": "raw",
   "id": "56ac10d1-8f78-4839-b89c-01e39bd2a36e",
   "metadata": {},
   "source": [
    "## Problem Statement\n",
    "\n",
    "Create a simple finance tracker that records transactions as either income or expenses and calculates a summary of total income, total expenses, and the overall balance. The tracker should allow the user to continuously input transaction details until they decide to finish the session by entering 'done'. Each transaction requires the user to specify the type (income or expense) and the amount. The application should not accept any other transaction types besides these two. After all transactions have been entered, the tracker should compute and display the total income, total expenses, and the current balance, which is the difference between total income and total expenses.\n",
    "# \n",
    "# ## Task:\n",
    "# 1. add_transaction(amount, transaction_type): Implement this function to append a new transaction to the global `transactions` list. Each transaction is stored as a dictionary with two keys: `'amount'`, which stores a float representing the transaction amount, and `'type'`, which stores a string indicating whether the transaction is an 'income' or an 'expense'. Use `transactions.append()` to add the new transaction.\n",
    "# \n",
    "# 2. calculate_summary(): This function calculates the total income, total expenses, and the balance from the transactions recorded in the `transactions` list. Iterate over `transactions` to separate incomes and expenses based on their `'type'`. Use a loop or list comprehensions to sum up the amounts for incomes and expenses separately. Calculate the balance by subtracting the total expenses from the total income. Return these three values (total income, total expenses, balance) at the end of the function."
   ]
  },
  {
   "cell_type": "code",
   "execution_count": 107,
   "id": "518ca49c-080b-42c5-b6f5-acf06f27e984",
   "metadata": {
    "tags": []
   },
   "outputs": [],
   "source": [
    "# Define Transactions as Global Variable"
   ]
  },
  {
   "cell_type": "code",
   "execution_count": 108,
   "id": "f1c8c88d-0f8e-4341-8da6-3c36be4aa959",
   "metadata": {
    "tags": []
   },
   "outputs": [],
   "source": [
    "global transactions\n",
    "transactions=[]"
   ]
  },
  {
   "cell_type": "code",
   "execution_count": null,
   "id": "e763380b-63ee-46d0-8eb0-d7d7a4688d47",
   "metadata": {},
   "outputs": [],
   "source": [
    "# Define Functions"
   ]
  },
  {
   "cell_type": "code",
   "execution_count": 110,
   "id": "671fc25a-be89-477a-8b27-1d340b398455",
   "metadata": {
    "tags": []
   },
   "outputs": [],
   "source": [
    "# This function will add each entry as a dictinary to transactions list\n",
    "\n",
    "def add_transaction(amount,user_input):\n",
    "    global transactions\n",
    "    entry ={user_input:amount}\n",
    "    transactions.append(entry)\n",
    "    return"
   ]
  },
  {
   "cell_type": "code",
   "execution_count": 109,
   "id": "21926dd4-a723-4f76-b71b-21dc3ecd947e",
   "metadata": {
    "tags": []
   },
   "outputs": [],
   "source": [
    "# This function will do calculations\n",
    "\n",
    "def cal_summary():\n",
    "    global transactions\n",
    "    inc=[]                   \n",
    "    exp=[] \n",
    "    for entry in transactions:\n",
    "        for key,value in entry.items():    # Access the dictinary values\n",
    "            if key=='income':\n",
    "                inc.append(value)\n",
    "            else:\n",
    "                exp.append(value)\n",
    "                \n",
    "    total_income= sum(inc)\n",
    "    total_expenses = sum(exp)\n",
    "    balance = total_income -total_expenses\n",
    "    \n",
    "    return total_income,total_expenses,balance       "
   ]
  },
  {
   "cell_type": "code",
   "execution_count": 111,
   "id": "406578f4-3550-44bb-a35d-6f41196ad95e",
   "metadata": {
    "tags": []
   },
   "outputs": [
    {
     "name": "stdout",
     "output_type": "stream",
     "text": [
      "------------------------------------------------------------------------------------------------------------------------\n",
      " !!!!!!!!! Welcome to Financial Tracker  !!!!!!!\n",
      "------------------------------------------------------------------------------------------------------------------------\n"
     ]
    },
    {
     "name": "stdin",
     "output_type": "stream",
     "text": [
      "Enter transaction as income or expense and to finish write 'done' Income\n",
      "Enter the amount: 20000\n",
      "Enter transaction as income or expense and to finish write 'done' income\n",
      "Enter the amount: 20000\n",
      "Enter transaction as income or expense and to finish write 'done' income\n",
      "Enter the amount: 89999\n",
      "Enter transaction as income or expense and to finish write 'done' income\n",
      "Enter the amount: 43.50\n",
      "Enter transaction as income or expense and to finish write 'done' expense\n",
      "Enter the amount: 9899.43\n",
      "Enter transaction as income or expense and to finish write 'done' done\n"
     ]
    }
   ],
   "source": [
    "# Accept the input from user and validate it\n",
    "\n",
    "print('------------' * 10)\n",
    "print(\" !!!!!!!!! Welcome to Financial Tracker  !!!!!!!\")\n",
    "print('------------' * 10)\n",
    "\n",
    "# \"This program will take incomes and expenses from user and provides expenditure Report.\"\n",
    "\n",
    "\n",
    "while True:\n",
    "    user_input = input(\"Enter transaction as income or expense and to finish write 'done'\").lower()\n",
    "    if user_input=='done':\n",
    "        break\n",
    "        \n",
    "    elif user_input not in ['income','expense']:\n",
    "        print(\"!Oops! It seems input is not correct.\")\n",
    "        print(\"Please enter valid input - income/expense/done\",\"\\n\")\n",
    "        continue\n",
    "    \n",
    "    amount=float(input(\"Enter the amount:\"))\n",
    "    if amount<0:\n",
    "        print(\"Amount must be greater than zero\")\n",
    "        continue\n",
    "        \n",
    "    add_transaction(amount,user_input)     "
   ]
  },
  {
   "cell_type": "code",
   "execution_count": 87,
   "id": "8f0a2216-9963-49b3-84ae-bdbf009e1fa4",
   "metadata": {
    "tags": []
   },
   "outputs": [],
   "source": [
    "# del transactions[0]"
   ]
  },
  {
   "cell_type": "code",
   "execution_count": 112,
   "id": "46965942-df64-4550-b453-fca7463542a9",
   "metadata": {
    "tags": []
   },
   "outputs": [
    {
     "name": "stdout",
     "output_type": "stream",
     "text": [
      "Total Income: 130042.5\n",
      "Total Expenses: 9899.43\n",
      "Balance: 120143.07\n"
     ]
    }
   ],
   "source": [
    "# Display Summary \n",
    "I,E,B= cal_summary()\n",
    "print(\"Total Income:\",I)\n",
    "print(\"Total Expenses:\",E)\n",
    "print(\"Balance:\",B)"
   ]
  },
  {
   "cell_type": "code",
   "execution_count": null,
   "id": "470d40c4-01cf-4b0d-b09f-a4004a0f64b3",
   "metadata": {},
   "outputs": [],
   "source": []
  }
 ],
 "metadata": {
  "kernelspec": {
   "display_name": "Python 3 (ipykernel)",
   "language": "python",
   "name": "python3"
  },
  "language_info": {
   "codemirror_mode": {
    "name": "ipython",
    "version": 3
   },
   "file_extension": ".py",
   "mimetype": "text/x-python",
   "name": "python",
   "nbconvert_exporter": "python",
   "pygments_lexer": "ipython3",
   "version": "3.10.9"
  },
  "widgets": {
   "application/vnd.jupyter.widget-state+json": {
    "state": {},
    "version_major": 2,
    "version_minor": 0
   }
  }
 },
 "nbformat": 4,
 "nbformat_minor": 5
}
